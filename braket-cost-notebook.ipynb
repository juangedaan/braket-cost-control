{
 "cells": [
  {
   "cell_type": "markdown",
   "metadata": {},
   "source": [
    "# Estimating the cost of quantum experiments in Amazon Braket"
   ]
  },
  {
   "cell_type": "markdown",
   "metadata": {},
   "source": [
    "### Amazon Braket pricing structure\n",
    "\n",
    "Amazon Braket provides access to quantum computers, managed simulators that simulate quantum circuits, and managed notebook development environments. There are [two main pricing components](https://aws.amazon.com/braket/pricing/) when using a quantum computer, or quantum processing unit (QPU), on Amazon Braket: a **per-shot** fee and a **per-task** fee.\n",
    "\n",
    "* A shot is a single execution of a quantum algorithm on a QPU. For example, a shot is a single pass through each stage of a complete quantum circuit on a gate-based QPU from IonQ or Rigetti. When you use a D-Wave quantum annealer, a shot is when you obtain a result sample of a quantum annealing problem. The per-shot pricing depends on the type of QPU used. The per-shot price is not affected by the number or type of gates used in a quantum circuit or the number of variables used in a quantum annealing problem.  \n",
    "\n",
    "\n",
    "* A task is a sequence of repeated shots based on the same circuit design or annealing problem. You define how many shots you want included in a task when you submit the task to Amazon Braket. Currently per-task pricing is the same across all QPUs.\n",
    "\n",
    "| Hardware Provider  | QPU family     | Per-task price  | Per-shot price |\n",
    "|:-------------------|:---------------|:----------------|:----------------|\n",
    "| D-Wave             | 2000Q          | 0.30000        | 0.00019       |\n",
    "| D-Wave             | Advantage 1.1  | 0.30000        | 0.00019       |\n",
    "| D-Wave             | Advantage 4.1  | 0.30000        | 0.00019       |\n",
    "| IonQ               | IonQ device    | 0.30000        | 0.01000       |\n",
    "| Rigetti            | Aspen-9        | 0.30000        | 0.00035       |  \n"
   ]
  },
  {
   "cell_type": "markdown",
   "metadata": {},
   "source": [
    "### Getting pricing information from Amazon Web Services Price List API\n",
    "\n",
    "[AWS Price List Service API](https://boto3.amazonaws.com/v1/documentation/api/latest/reference/services/pricing.html) is a centralized and convenient way to programmatically query Amazon Web Services for services, products, and pricing information. The Amazon Web Services Price List Service uses standardized product attributes such as service name and location, and provides prices at the stock keeping unit (SKU) level.  \n",
    "\n",
    "In this notebook you will use the AWS Price List Service API to obtain all the relevant pricing information for Amazon Braket. You can use the AWS Price List Service to build cost control and scenario planning tools, reconcile billing data, forecast future spend for budgeting purposes, and provide cost benefit analysis that compare your internal workloads with Amazon Web Services.  \n",
    "\n",
    "You can use ``GetServices`` without a service code to retrieve the service codes for all AWS services, then ``GetServices`` with a service code to retreive the attribute names for that service. For Amazon Braket, you can set ``'AmazonBraket'`` as the atrribute for the service code. After you have the service code and attribute names, you can use ``GetAttributeValues`` to see what values are available for an attribute. ``usagetype`` is the attribute name that contains all the pricing information. With the service code and an attribute name and value, you can use ``GetProducts`` to find specific products that you're interested in, such as the shot and task price for a specific QPU."
   ]
  },
  {
   "cell_type": "code",
   "execution_count": 1,
   "metadata": {},
   "outputs": [],
   "source": [
    "import boto3\n",
    "from pprint import pprint\n",
    "import json\n",
    "from braket.aws import AwsDevice, AwsQuantumTask"
   ]
  },
  {
   "cell_type": "code",
   "execution_count": 2,
   "metadata": {},
   "outputs": [],
   "source": [
    "def get_price_list():\n",
    "\n",
    "    \"\"\" \n",
    "    This function creates a dictionary that uses the usage type as key, and the cost as an attribute.\n",
    "    The dictionary is built by filtering the two billing components in Amazon Braket: task and shot.\n",
    "    {'Global-Simulators-Task': 0.0,\n",
    "     'USE1-Task': 0.3,\n",
    "     'USE1-Task-Shot': 0.01,\n",
    "     'USW1-Task': 0.3,\n",
    "     'USW1-Task-Shot': 0.00035,\n",
    "     'USW2-Task': 0.3,\n",
    "     'USW2-Task-Shot': 0.00019}\n",
    "    \n",
    "    \"\"\" \n",
    "\n",
    "    # Initialize the client in one of the available endpoints:\n",
    "    # https://api.pricing.us-east-1.amazonaws.com\n",
    "    # https://api.pricing.ap-south-1.amazonaws.com\n",
    "    client = boto3.client('pricing', region_name= 'us-east-1')\n",
    "\n",
    "    # 'usagetype' contains the pricing information for tasks and shots in Amazon Braket, per region.\n",
    "    paginator = client.get_paginator('get_attribute_values')\n",
    "    response_iterator = paginator.paginate(\n",
    "        ServiceCode='AmazonBraket',\n",
    "        AttributeName='usagetype',\n",
    "    )\n",
    "\n",
    "    # For the list of atributes in usage type, filter the strings ending \n",
    "    # by either \"Task\" or \"Shot\", and create a list with all of them.\n",
    "    tasks = []\n",
    "    for item in response_iterator:\n",
    "        for i in item['AttributeValues']:\n",
    "            # This condition is critical to get the right usage types\n",
    "            if i['Value'][-4:] == 'Task'or i['Value'][-4:] == 'Shot':    \n",
    "                tasks.append(i['Value']) \n",
    "\n",
    "    # Get all products to identify the cost key and its value.\n",
    "    paginator = client.get_paginator('get_products')\n",
    "    response_iterator = paginator.paginate(\n",
    "        ServiceCode='AmazonBraket',\n",
    "    )\n",
    "\n",
    "    price_list = {}\n",
    "\n",
    "    for responses in response_iterator:\n",
    "        for i in responses['PriceList']:\n",
    "            # Convert string to json (which creates dict)\n",
    "            product = json.loads(i)\n",
    "            #pprint(product)\n",
    "\n",
    "            # Check if this product is in the selected tasks above\n",
    "            usage_type = product['product']['attributes']['usagetype']\n",
    "            if usage_type in tasks:\n",
    "                ondemand_terms = product['terms']['OnDemand']\n",
    "\n",
    "                # We could assume there may be only one term and use keys(ondemand_terms)[0]\n",
    "                # but there may be cases where there are more than one term so better to be safe.\n",
    "                for terms_id in ondemand_terms:\n",
    "\n",
    "                    # We could assume there may be only one priceDimension and use keys(terms_id)[0]\n",
    "                    # but there may be cases where there are more than one term so better to be safe.\n",
    "                    for j in (ondemand_terms[terms_id]['priceDimensions']):\n",
    "                        price_list[usage_type] = float(ondemand_terms[terms_id]['priceDimensions'][j]['pricePerUnit']['USD'])\n",
    "\n",
    "    return price_list"
   ]
  },
  {
   "cell_type": "markdown",
   "metadata": {},
   "source": [
    "Once you have the price list with shot and task prices for all regions, you can build logic to return the right value depending on the device and its location. \n",
    "\n",
    "The next function takes the device as a parameter, and returns the task and shot price for it. Currently the map between region and device is 1:1 (no region information in the arn), but that can be easily modified if it changes in the future.\n",
    "\n",
    "The advantage of using 2 different functions is that you don't need to execute ``get_price_list`` everytime, but only when prices are updated or you want a refresh with the latest information for other reason. It will also return the pricing information for new devices as they get added."
   ]
  },
  {
   "cell_type": "code",
   "execution_count": 3,
   "metadata": {},
   "outputs": [],
   "source": [
    "def get_price(device=None):\n",
    "\n",
    "    \"\"\"    \n",
    "    Function to match dict entries with the right ARN, and assign them to price_per_task and price_per_shot.\n",
    "    For example: If device is ionq, pass USE1-Task and USE1-Task-Shot values. \n",
    "    Since one atribute can match >1 device, we need to specify each case:\n",
    "    Note: Current schema will stop working if an existing device model is added to a new region.\n",
    "    \n",
    "    ----------------------------------------------------------------------------------------------\n",
    "     Attribute                 Device\n",
    "    ----------------------------------------------------------------------------------------------\n",
    "     Global-Simulators-Task    AwsDevice(\"arn:aws:braket:::device/quantum-simulator/amazon/sv1\")\n",
    "     Global-Simulators-Task    AwsDevice(\"arn:aws:braket:::device/quantum-simulator/amazon/tn1\")\n",
    "     Global-Simulators-Task    AwsDevice(\"arn:aws:braket:::device/quantum-simulator/amazon/dm1\")\n",
    "     USE1-Task[-Shot]          AwsDevice(\"arn:aws:braket:::device/qpu/ionq/ionQdevice\")\n",
    "     USW1-Task[-Shot]          AwsDevice(\"arn:aws:braket:::device/qpu/rigetti/Aspen-9\")\n",
    "     USW2-Task[-Shot]          AwsDevice(\"arn:aws:braket:::device/qpu/d-wave/Advantage_system1\")\n",
    "     USW2-Task[-Shot]          AwsDevice(\"arn:aws:braket:::device/qpu/d-wave/Advantage_system4\")\n",
    "     USW2-Task[-Shot]          AwsDevice(\"arn:aws:braket:::device/qpu/d-wave/DW_2000Q_6\")\n",
    "    ----------------------------------------------------------------------------------------------\n",
    "    \n",
    "    \"\"\"\n",
    "    price_list = get_price_list()\n",
    "    \n",
    "    arn = device._arn\n",
    "    if 'simulator' in arn:\n",
    "        price_per_task = price_list['Global-Simulators-Task']\n",
    "    if 'ionq' in arn:\n",
    "        price_per_task = price_list['USE1-Task']\n",
    "        price_per_shot = price_list['USE1-Task-Shot']\n",
    "    if 'rigetti' in arn:\n",
    "        price_per_task = price_list['USW1-Task']\n",
    "        price_per_shot = price_list['USW1-Task-Shot']\n",
    "    if 'd-wave' in arn:\n",
    "        price_per_task = price_list['USW2-Task']\n",
    "        price_per_shot = price_list['USW2-Task-Shot']\n",
    "        \n",
    "    return {'task': price_per_task, 'shot': price_per_shot}"
   ]
  },
  {
   "cell_type": "markdown",
   "metadata": {},
   "source": [
    "### Amazon Braket QPU Cost Estimator\n",
    "\n",
    "After the preliminary steps, you are ready to calculate the overall cost of your experiment or simulation. The following cells provide a function to estimate the cost of an experiment using a quantum computer, and a set of cost estimate best practices to follow when submitting calculations. \n",
    "\n",
    "<div class=\"alert alert-block alert-info\">\n",
    "    <b>Note:</b> Besides the cost associated with the use of the QPU, there are also other costs for the services used to store results (Amazon S3), run the notebook itself, and other optional services like the setting up of alarms with AWS CloudWatch or Amazon EventBridge. You will be billed separately for the use of each of these capabilities. The cost estimate function provided below does not account for the cost of these services. \n",
    "</div>"
   ]
  },
  {
   "cell_type": "code",
   "execution_count": 4,
   "metadata": {},
   "outputs": [],
   "source": [
    "def estimate_cost(device=None, tasks=1, shots_per_task = 1000):\n",
    "    \n",
    "    \"\"\"\n",
    "    Function to return the estimate cost of QPU simulation. \n",
    "\n",
    "    Input:      device = AwsDevice(\"arn:aws:braket:::device/[quantum-simulator|qpu]/VENDOR/MODEL)\n",
    "                tasks = maximum number of tasks allowed in a variational calculation (user defined parameter)\n",
    "                shots_per_task = number of shots per task (user defined parameter)   \n",
    "    \n",
    "    Example:    estimate_cost\\\n",
    "                    (device = 'AwsDevice(\"arn:aws:braket:::device/qpu/rigetti/Aspen-9\")',\\\n",
    "                    tasks = 1, shots_per_task = 1000)\n",
    "    \n",
    "    Example output: \n",
    "        --------------------------------------------------------\n",
    "        AWS Device:       Aspen-9\n",
    "        Number of tasks:  1\n",
    "        Shots per task:   1000\n",
    "        Price per task:   0.3\n",
    "        Price per shot:   $0.00035\n",
    "\n",
    "        Cost estimate:    $0.6499999999999999\n",
    "        --------------------------------------------------------      \n",
    "    \n",
    "    Note: \n",
    "        This function calculates the cost from the number of tasks and shots. \n",
    "        It does not include the cost associated with other AWS services (Braket notebooks, S3, etc.)\n",
    "        \n",
    "    \"\"\"\n",
    "    # Function 'get_price' returns 2 values: task and shot   \n",
    "    price_per_task = get_price(device)['task']\n",
    "    price_per_shot = get_price(device)['shot']\n",
    "    \n",
    "    # We can also obtain the shot price using Braket SDK, but task price doesn't exist there.\n",
    "    # price_per_shot = device.properties.service.deviceCost.price \n",
    "\n",
    "    price = tasks * price_per_task \\\n",
    "          + tasks * shots_per_task * price_per_shot  \n",
    "    print('--------------------------------------------------------')\n",
    "    print('AWS Device:       {}'.format(device.name))    \n",
    "    print('Number of tasks:  {}'.format(tasks))\n",
    "    print('Shots per task:   {}'.format(shots_per_task))\n",
    "    print('Price per task:   ${}'.format(price_per_task))\n",
    "    print('Price per shot:   ${}\\n'.format(price_per_shot))\n",
    "    print('Cost estimate:    ${}'.format(price)) \n",
    "    print('--------------------------------------------------------\\n\\n')\n",
    "   "
   ]
  },
  {
   "cell_type": "markdown",
   "metadata": {},
   "source": [
    "### Calculating costs\n",
    "Estimate the cost of your circuit **before** submitting to the QPU."
   ]
  },
  {
   "cell_type": "code",
   "execution_count": 5,
   "metadata": {
    "scrolled": true
   },
   "outputs": [
    {
     "name": "stdout",
     "output_type": "stream",
     "text": [
      "--------------------------------------------------------\n",
      "AWS Device:       DW_2000Q_6\n",
      "Number of tasks:  10\n",
      "Shots per task:   10000\n",
      "Price per task:   $0.3\n",
      "Price per shot:   $0.00019\n",
      "\n",
      "Cost estimate:    $22.0\n",
      "--------------------------------------------------------\n",
      "\n",
      "\n"
     ]
    }
   ],
   "source": [
    "# Estimate the cost of a circuit on the D-Wave device\n",
    "dev = AwsDevice(\"arn:aws:braket:::device/qpu/d-wave/DW_2000Q_6\")\n",
    "estimate_cost(device = dev, tasks = 10, shots_per_task = 10000)"
   ]
  }
 ],
 "metadata": {
  "kernelspec": {
   "display_name": "conda_braket",
   "language": "python",
   "name": "conda_braket"
  },
  "language_info": {
   "codemirror_mode": {
    "name": "ipython",
    "version": 3
   },
   "file_extension": ".py",
   "mimetype": "text/x-python",
   "name": "python",
   "nbconvert_exporter": "python",
   "pygments_lexer": "ipython3",
   "version": "3.7.10"
  }
 },
 "nbformat": 4,
 "nbformat_minor": 4
}
